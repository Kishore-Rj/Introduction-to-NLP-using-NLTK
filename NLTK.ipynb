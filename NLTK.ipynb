{
 "cells": [
  {
   "cell_type": "markdown",
   "metadata": {},
   "source": [
    "# INTRODUCTION TO NLP USING NLTK"
   ]
  },
  {
   "cell_type": "code",
   "execution_count": 1,
   "metadata": {},
   "outputs": [],
   "source": [
    "import nltk"
   ]
  },
  {
   "cell_type": "code",
   "execution_count": 2,
   "metadata": {},
   "outputs": [
    {
     "name": "stdout",
     "output_type": "stream",
     "text": [
      "[nltk_data] Downloading package movie_reviews to\n",
      "[nltk_data]     /Users/kishoreraj/nltk_data...\n",
      "[nltk_data]   Package movie_reviews is already up-to-date!\n"
     ]
    },
    {
     "data": {
      "text/plain": [
       "True"
      ]
     },
     "execution_count": 2,
     "metadata": {},
     "output_type": "execute_result"
    }
   ],
   "source": [
    "nltk.download(\"movie_reviews\")"
   ]
  },
  {
   "cell_type": "code",
   "execution_count": null,
   "metadata": {},
   "outputs": [],
   "source": [
    "#nltk.download()"
   ]
  },
  {
   "cell_type": "code",
   "execution_count": 3,
   "metadata": {
    "collapsed": true
   },
   "outputs": [],
   "source": [
    "from nltk.corpus import movie_reviews"
   ]
  },
  {
   "cell_type": "markdown",
   "metadata": {},
   "source": [
    "The fileids method provided by all the datasets in nltk.corpus gives access to list of all the files available.\n",
    "\n",
    "In particular the movie review dataset we have 2000 text file, each of them is a review of a movie and they are \n",
    "already split in a neg folder for negative reviews and pos folder for positive reviews."
   ]
  },
  {
   "cell_type": "code",
   "execution_count": 4,
   "metadata": {},
   "outputs": [
    {
     "data": {
      "text/plain": [
       "['neg/cv000_29416.txt',\n",
       " 'neg/cv001_19502.txt',\n",
       " 'neg/cv002_17424.txt',\n",
       " 'neg/cv003_12683.txt',\n",
       " 'neg/cv004_12641.txt',\n",
       " 'neg/cv005_29357.txt',\n",
       " 'neg/cv006_17022.txt',\n",
       " 'neg/cv007_4992.txt',\n",
       " 'neg/cv008_29326.txt',\n",
       " 'neg/cv009_29417.txt',\n",
       " 'neg/cv010_29063.txt',\n",
       " 'neg/cv011_13044.txt',\n",
       " 'neg/cv012_29411.txt',\n",
       " 'neg/cv013_10494.txt',\n",
       " 'neg/cv014_15600.txt',\n",
       " 'neg/cv015_29356.txt',\n",
       " 'neg/cv016_4348.txt',\n",
       " 'neg/cv017_23487.txt',\n",
       " 'neg/cv018_21672.txt',\n",
       " 'neg/cv019_16117.txt',\n",
       " 'neg/cv020_9234.txt',\n",
       " 'neg/cv021_17313.txt',\n",
       " 'neg/cv022_14227.txt',\n",
       " 'neg/cv023_13847.txt',\n",
       " 'neg/cv024_7033.txt',\n",
       " 'neg/cv025_29825.txt',\n",
       " 'neg/cv026_29229.txt',\n",
       " 'neg/cv027_26270.txt',\n",
       " 'neg/cv028_26964.txt',\n",
       " 'neg/cv029_19943.txt',\n",
       " 'neg/cv030_22893.txt',\n",
       " 'neg/cv031_19540.txt',\n",
       " 'neg/cv032_23718.txt',\n",
       " 'neg/cv033_25680.txt',\n",
       " 'neg/cv034_29446.txt',\n",
       " 'neg/cv035_3343.txt',\n",
       " 'neg/cv036_18385.txt',\n",
       " 'neg/cv037_19798.txt',\n",
       " 'neg/cv038_9781.txt',\n",
       " 'neg/cv039_5963.txt',\n",
       " 'neg/cv040_8829.txt',\n",
       " 'neg/cv041_22364.txt',\n",
       " 'neg/cv042_11927.txt',\n",
       " 'neg/cv043_16808.txt',\n",
       " 'neg/cv044_18429.txt',\n",
       " 'neg/cv045_25077.txt',\n",
       " 'neg/cv046_10613.txt',\n",
       " 'neg/cv047_18725.txt',\n",
       " 'neg/cv048_18380.txt',\n",
       " 'neg/cv049_21917.txt',\n",
       " 'neg/cv050_12128.txt',\n",
       " 'neg/cv051_10751.txt',\n",
       " 'neg/cv052_29318.txt',\n",
       " 'neg/cv053_23117.txt',\n",
       " 'neg/cv054_4101.txt',\n",
       " 'neg/cv055_8926.txt',\n",
       " 'neg/cv056_14663.txt',\n",
       " 'neg/cv057_7962.txt',\n",
       " 'neg/cv058_8469.txt',\n",
       " 'neg/cv059_28723.txt',\n",
       " 'neg/cv060_11754.txt',\n",
       " 'neg/cv061_9321.txt',\n",
       " 'neg/cv062_24556.txt',\n",
       " 'neg/cv063_28852.txt',\n",
       " 'neg/cv064_25842.txt',\n",
       " 'neg/cv065_16909.txt',\n",
       " 'neg/cv066_11668.txt',\n",
       " 'neg/cv067_21192.txt',\n",
       " 'neg/cv068_14810.txt',\n",
       " 'neg/cv069_11613.txt',\n",
       " 'neg/cv070_13249.txt',\n",
       " 'neg/cv071_12969.txt',\n",
       " 'neg/cv072_5928.txt',\n",
       " 'neg/cv073_23039.txt',\n",
       " 'neg/cv074_7188.txt',\n",
       " 'neg/cv075_6250.txt',\n",
       " 'neg/cv076_26009.txt',\n",
       " 'neg/cv077_23172.txt',\n",
       " 'neg/cv078_16506.txt',\n",
       " 'neg/cv079_12766.txt',\n",
       " 'neg/cv080_14899.txt',\n",
       " 'neg/cv081_18241.txt',\n",
       " 'neg/cv082_11979.txt',\n",
       " 'neg/cv083_25491.txt',\n",
       " 'neg/cv084_15183.txt',\n",
       " 'neg/cv085_15286.txt',\n",
       " 'neg/cv086_19488.txt',\n",
       " 'neg/cv087_2145.txt',\n",
       " 'neg/cv088_25274.txt',\n",
       " 'neg/cv089_12222.txt',\n",
       " 'neg/cv090_0049.txt',\n",
       " 'neg/cv091_7899.txt',\n",
       " 'neg/cv092_27987.txt',\n",
       " 'neg/cv093_15606.txt',\n",
       " 'neg/cv094_27868.txt',\n",
       " 'neg/cv095_28730.txt',\n",
       " 'neg/cv096_12262.txt',\n",
       " 'neg/cv097_26081.txt',\n",
       " 'neg/cv098_17021.txt',\n",
       " 'neg/cv099_11189.txt',\n",
       " 'neg/cv100_12406.txt',\n",
       " 'neg/cv101_10537.txt',\n",
       " 'neg/cv102_8306.txt',\n",
       " 'neg/cv103_11943.txt',\n",
       " 'neg/cv104_19176.txt',\n",
       " 'neg/cv105_19135.txt',\n",
       " 'neg/cv106_18379.txt',\n",
       " 'neg/cv107_25639.txt',\n",
       " 'neg/cv108_17064.txt',\n",
       " 'neg/cv109_22599.txt',\n",
       " 'neg/cv110_27832.txt',\n",
       " 'neg/cv111_12253.txt',\n",
       " 'neg/cv112_12178.txt',\n",
       " 'neg/cv113_24354.txt',\n",
       " 'neg/cv114_19501.txt',\n",
       " 'neg/cv115_26443.txt',\n",
       " 'neg/cv116_28734.txt',\n",
       " 'neg/cv117_25625.txt',\n",
       " 'neg/cv118_28837.txt',\n",
       " 'neg/cv119_9909.txt',\n",
       " 'neg/cv120_3793.txt',\n",
       " 'neg/cv121_18621.txt',\n",
       " 'neg/cv122_7891.txt',\n",
       " 'neg/cv123_12165.txt',\n",
       " 'neg/cv124_3903.txt',\n",
       " 'neg/cv125_9636.txt',\n",
       " 'neg/cv126_28821.txt',\n",
       " 'neg/cv127_16451.txt',\n",
       " 'neg/cv128_29444.txt',\n",
       " 'neg/cv129_18373.txt',\n",
       " 'neg/cv130_18521.txt',\n",
       " 'neg/cv131_11568.txt',\n",
       " 'neg/cv132_5423.txt',\n",
       " 'neg/cv133_18065.txt',\n",
       " 'neg/cv134_23300.txt',\n",
       " 'neg/cv135_12506.txt',\n",
       " 'neg/cv136_12384.txt',\n",
       " 'neg/cv137_17020.txt',\n",
       " 'neg/cv138_13903.txt',\n",
       " 'neg/cv139_14236.txt',\n",
       " 'neg/cv140_7963.txt',\n",
       " 'neg/cv141_17179.txt',\n",
       " 'neg/cv142_23657.txt',\n",
       " 'neg/cv143_21158.txt',\n",
       " 'neg/cv144_5010.txt',\n",
       " 'neg/cv145_12239.txt',\n",
       " 'neg/cv146_19587.txt',\n",
       " 'neg/cv147_22625.txt',\n",
       " 'neg/cv148_18084.txt',\n",
       " 'neg/cv149_17084.txt',\n",
       " 'neg/cv150_14279.txt',\n",
       " 'neg/cv151_17231.txt',\n",
       " 'neg/cv152_9052.txt',\n",
       " 'neg/cv153_11607.txt',\n",
       " 'neg/cv154_9562.txt',\n",
       " 'neg/cv155_7845.txt',\n",
       " 'neg/cv156_11119.txt',\n",
       " 'neg/cv157_29302.txt',\n",
       " 'neg/cv158_10914.txt',\n",
       " 'neg/cv159_29374.txt',\n",
       " 'neg/cv160_10848.txt',\n",
       " 'neg/cv161_12224.txt',\n",
       " 'neg/cv162_10977.txt',\n",
       " 'neg/cv163_10110.txt',\n",
       " 'neg/cv164_23451.txt',\n",
       " 'neg/cv165_2389.txt',\n",
       " 'neg/cv166_11959.txt',\n",
       " 'neg/cv167_18094.txt',\n",
       " 'neg/cv168_7435.txt',\n",
       " 'neg/cv169_24973.txt',\n",
       " 'neg/cv170_29808.txt',\n",
       " 'neg/cv171_15164.txt',\n",
       " 'neg/cv172_12037.txt',\n",
       " 'neg/cv173_4295.txt',\n",
       " 'neg/cv174_9735.txt',\n",
       " 'neg/cv175_7375.txt',\n",
       " 'neg/cv176_14196.txt',\n",
       " 'neg/cv177_10904.txt',\n",
       " 'neg/cv178_14380.txt',\n",
       " 'neg/cv179_9533.txt',\n",
       " 'neg/cv180_17823.txt',\n",
       " 'neg/cv181_16083.txt',\n",
       " 'neg/cv182_7791.txt',\n",
       " 'neg/cv183_19826.txt',\n",
       " 'neg/cv184_26935.txt',\n",
       " 'neg/cv185_28372.txt',\n",
       " 'neg/cv186_2396.txt',\n",
       " 'neg/cv187_14112.txt',\n",
       " 'neg/cv188_20687.txt',\n",
       " 'neg/cv189_24248.txt',\n",
       " 'neg/cv190_27176.txt',\n",
       " 'neg/cv191_29539.txt',\n",
       " 'neg/cv192_16079.txt',\n",
       " 'neg/cv193_5393.txt',\n",
       " 'neg/cv194_12855.txt',\n",
       " 'neg/cv195_16146.txt',\n",
       " 'neg/cv196_28898.txt',\n",
       " 'neg/cv197_29271.txt',\n",
       " 'neg/cv198_19313.txt',\n",
       " 'neg/cv199_9721.txt',\n",
       " 'neg/cv200_29006.txt',\n",
       " 'neg/cv201_7421.txt',\n",
       " 'neg/cv202_11382.txt',\n",
       " 'neg/cv203_19052.txt',\n",
       " 'neg/cv204_8930.txt',\n",
       " 'neg/cv205_9676.txt',\n",
       " 'neg/cv206_15893.txt',\n",
       " 'neg/cv207_29141.txt',\n",
       " 'neg/cv208_9475.txt',\n",
       " 'neg/cv209_28973.txt',\n",
       " 'neg/cv210_9557.txt',\n",
       " 'neg/cv211_9955.txt',\n",
       " 'neg/cv212_10054.txt',\n",
       " 'neg/cv213_20300.txt',\n",
       " 'neg/cv214_13285.txt',\n",
       " 'neg/cv215_23246.txt',\n",
       " 'neg/cv216_20165.txt',\n",
       " 'neg/cv217_28707.txt',\n",
       " 'neg/cv218_25651.txt',\n",
       " 'neg/cv219_19874.txt',\n",
       " 'neg/cv220_28906.txt',\n",
       " 'neg/cv221_27081.txt',\n",
       " 'neg/cv222_18720.txt',\n",
       " 'neg/cv223_28923.txt',\n",
       " 'neg/cv224_18875.txt',\n",
       " 'neg/cv225_29083.txt',\n",
       " 'neg/cv226_26692.txt',\n",
       " 'neg/cv227_25406.txt',\n",
       " 'neg/cv228_5644.txt',\n",
       " 'neg/cv229_15200.txt',\n",
       " 'neg/cv230_7913.txt',\n",
       " 'neg/cv231_11028.txt',\n",
       " 'neg/cv232_16768.txt',\n",
       " 'neg/cv233_17614.txt',\n",
       " 'neg/cv234_22123.txt',\n",
       " 'neg/cv235_10704.txt',\n",
       " 'neg/cv236_12427.txt',\n",
       " 'neg/cv237_20635.txt',\n",
       " 'neg/cv238_14285.txt',\n",
       " 'neg/cv239_29828.txt',\n",
       " 'neg/cv240_15948.txt',\n",
       " 'neg/cv241_24602.txt',\n",
       " 'neg/cv242_11354.txt',\n",
       " 'neg/cv243_22164.txt',\n",
       " 'neg/cv244_22935.txt',\n",
       " 'neg/cv245_8938.txt',\n",
       " 'neg/cv246_28668.txt',\n",
       " 'neg/cv247_14668.txt',\n",
       " 'neg/cv248_15672.txt',\n",
       " 'neg/cv249_12674.txt',\n",
       " 'neg/cv250_26462.txt',\n",
       " 'neg/cv251_23901.txt',\n",
       " 'neg/cv252_24974.txt',\n",
       " 'neg/cv253_10190.txt',\n",
       " 'neg/cv254_5870.txt',\n",
       " 'neg/cv255_15267.txt',\n",
       " 'neg/cv256_16529.txt',\n",
       " 'neg/cv257_11856.txt',\n",
       " 'neg/cv258_5627.txt',\n",
       " 'neg/cv259_11827.txt',\n",
       " 'neg/cv260_15652.txt',\n",
       " 'neg/cv261_11855.txt',\n",
       " 'neg/cv262_13812.txt',\n",
       " 'neg/cv263_20693.txt',\n",
       " 'neg/cv264_14108.txt',\n",
       " 'neg/cv265_11625.txt',\n",
       " 'neg/cv266_26644.txt',\n",
       " 'neg/cv267_16618.txt',\n",
       " 'neg/cv268_20288.txt',\n",
       " 'neg/cv269_23018.txt',\n",
       " 'neg/cv270_5873.txt',\n",
       " 'neg/cv271_15364.txt',\n",
       " 'neg/cv272_20313.txt',\n",
       " 'neg/cv273_28961.txt',\n",
       " 'neg/cv274_26379.txt',\n",
       " 'neg/cv275_28725.txt',\n",
       " 'neg/cv276_17126.txt',\n",
       " 'neg/cv277_20467.txt',\n",
       " 'neg/cv278_14533.txt',\n",
       " 'neg/cv279_19452.txt',\n",
       " 'neg/cv280_8651.txt',\n",
       " 'neg/cv281_24711.txt',\n",
       " 'neg/cv282_6833.txt',\n",
       " 'neg/cv283_11963.txt',\n",
       " 'neg/cv284_20530.txt',\n",
       " 'neg/cv285_18186.txt',\n",
       " 'neg/cv286_26156.txt',\n",
       " 'neg/cv287_17410.txt',\n",
       " 'neg/cv288_20212.txt',\n",
       " 'neg/cv289_6239.txt',\n",
       " 'neg/cv290_11981.txt',\n",
       " 'neg/cv291_26844.txt',\n",
       " 'neg/cv292_7804.txt',\n",
       " 'neg/cv293_29731.txt',\n",
       " 'neg/cv294_12695.txt',\n",
       " 'neg/cv295_17060.txt',\n",
       " 'neg/cv296_13146.txt',\n",
       " 'neg/cv297_10104.txt',\n",
       " 'neg/cv298_24487.txt',\n",
       " 'neg/cv299_17950.txt',\n",
       " 'neg/cv300_23302.txt',\n",
       " 'neg/cv301_13010.txt',\n",
       " 'neg/cv302_26481.txt',\n",
       " 'neg/cv303_27366.txt',\n",
       " 'neg/cv304_28489.txt',\n",
       " 'neg/cv305_9937.txt',\n",
       " 'neg/cv306_10859.txt',\n",
       " 'neg/cv307_26382.txt',\n",
       " 'neg/cv308_5079.txt',\n",
       " 'neg/cv309_23737.txt',\n",
       " 'neg/cv310_14568.txt',\n",
       " 'neg/cv311_17708.txt',\n",
       " 'neg/cv312_29308.txt',\n",
       " 'neg/cv313_19337.txt',\n",
       " 'neg/cv314_16095.txt',\n",
       " 'neg/cv315_12638.txt',\n",
       " 'neg/cv316_5972.txt',\n",
       " 'neg/cv317_25111.txt',\n",
       " 'neg/cv318_11146.txt',\n",
       " 'neg/cv319_16459.txt',\n",
       " 'neg/cv320_9693.txt',\n",
       " 'neg/cv321_14191.txt',\n",
       " 'neg/cv322_21820.txt',\n",
       " 'neg/cv323_29633.txt',\n",
       " 'neg/cv324_7502.txt',\n",
       " 'neg/cv325_18330.txt',\n",
       " 'neg/cv326_14777.txt',\n",
       " 'neg/cv327_21743.txt',\n",
       " 'neg/cv328_10908.txt',\n",
       " 'neg/cv329_29293.txt',\n",
       " 'neg/cv330_29675.txt',\n",
       " 'neg/cv331_8656.txt',\n",
       " 'neg/cv332_17997.txt',\n",
       " 'neg/cv333_9443.txt',\n",
       " 'neg/cv334_0074.txt',\n",
       " 'neg/cv335_16299.txt',\n",
       " 'neg/cv336_10363.txt',\n",
       " 'neg/cv337_29061.txt',\n",
       " 'neg/cv338_9183.txt',\n",
       " 'neg/cv339_22452.txt',\n",
       " 'neg/cv340_14776.txt',\n",
       " 'neg/cv341_25667.txt',\n",
       " 'neg/cv342_20917.txt',\n",
       " 'neg/cv343_10906.txt',\n",
       " 'neg/cv344_5376.txt',\n",
       " 'neg/cv345_9966.txt',\n",
       " 'neg/cv346_19198.txt',\n",
       " 'neg/cv347_14722.txt',\n",
       " 'neg/cv348_19207.txt',\n",
       " 'neg/cv349_15032.txt',\n",
       " 'neg/cv350_22139.txt',\n",
       " 'neg/cv351_17029.txt',\n",
       " 'neg/cv352_5414.txt',\n",
       " 'neg/cv353_19197.txt',\n",
       " 'neg/cv354_8573.txt',\n",
       " 'neg/cv355_18174.txt',\n",
       " 'neg/cv356_26170.txt',\n",
       " 'neg/cv357_14710.txt',\n",
       " 'neg/cv358_11557.txt',\n",
       " 'neg/cv359_6751.txt',\n",
       " 'neg/cv360_8927.txt',\n",
       " 'neg/cv361_28738.txt',\n",
       " 'neg/cv362_16985.txt',\n",
       " 'neg/cv363_29273.txt',\n",
       " 'neg/cv364_14254.txt',\n",
       " 'neg/cv365_12442.txt',\n",
       " 'neg/cv366_10709.txt',\n",
       " 'neg/cv367_24065.txt',\n",
       " 'neg/cv368_11090.txt',\n",
       " 'neg/cv369_14245.txt',\n",
       " 'neg/cv370_5338.txt',\n",
       " 'neg/cv371_8197.txt',\n",
       " 'neg/cv372_6654.txt',\n",
       " 'neg/cv373_21872.txt',\n",
       " 'neg/cv374_26455.txt',\n",
       " 'neg/cv375_9932.txt',\n",
       " 'neg/cv376_20883.txt',\n",
       " 'neg/cv377_8440.txt',\n",
       " 'neg/cv378_21982.txt',\n",
       " 'neg/cv379_23167.txt',\n",
       " 'neg/cv380_8164.txt',\n",
       " 'neg/cv381_21673.txt',\n",
       " 'neg/cv382_8393.txt',\n",
       " 'neg/cv383_14662.txt',\n",
       " 'neg/cv384_18536.txt',\n",
       " 'neg/cv385_29621.txt',\n",
       " 'neg/cv386_10229.txt',\n",
       " 'neg/cv387_12391.txt',\n",
       " 'neg/cv388_12810.txt',\n",
       " 'neg/cv389_9611.txt',\n",
       " 'neg/cv390_12187.txt',\n",
       " 'neg/cv391_11615.txt',\n",
       " 'neg/cv392_12238.txt',\n",
       " 'neg/cv393_29234.txt',\n",
       " 'neg/cv394_5311.txt',\n",
       " 'neg/cv395_11761.txt',\n",
       " 'neg/cv396_19127.txt',\n",
       " 'neg/cv397_28890.txt',\n",
       " 'neg/cv398_17047.txt',\n",
       " 'neg/cv399_28593.txt',\n",
       " 'neg/cv400_20631.txt',\n",
       " 'neg/cv401_13758.txt',\n",
       " 'neg/cv402_16097.txt',\n",
       " 'neg/cv403_6721.txt',\n",
       " 'neg/cv404_21805.txt',\n",
       " 'neg/cv405_21868.txt',\n",
       " 'neg/cv406_22199.txt',\n",
       " 'neg/cv407_23928.txt',\n",
       " 'neg/cv408_5367.txt',\n",
       " 'neg/cv409_29625.txt',\n",
       " 'neg/cv410_25624.txt',\n",
       " 'neg/cv411_16799.txt',\n",
       " 'neg/cv412_25254.txt',\n",
       " 'neg/cv413_7893.txt',\n",
       " 'neg/cv414_11161.txt',\n",
       " 'neg/cv415_23674.txt',\n",
       " 'neg/cv416_12048.txt',\n",
       " 'neg/cv417_14653.txt',\n",
       " 'neg/cv418_16562.txt',\n",
       " 'neg/cv419_14799.txt',\n",
       " 'neg/cv420_28631.txt',\n",
       " 'neg/cv421_9752.txt',\n",
       " 'neg/cv422_9632.txt',\n",
       " 'neg/cv423_12089.txt',\n",
       " 'neg/cv424_9268.txt',\n",
       " 'neg/cv425_8603.txt',\n",
       " 'neg/cv426_10976.txt',\n",
       " 'neg/cv427_11693.txt',\n",
       " 'neg/cv428_12202.txt',\n",
       " 'neg/cv429_7937.txt',\n",
       " 'neg/cv430_18662.txt',\n",
       " 'neg/cv431_7538.txt',\n",
       " 'neg/cv432_15873.txt',\n",
       " 'neg/cv433_10443.txt',\n",
       " 'neg/cv434_5641.txt',\n",
       " 'neg/cv435_24355.txt',\n",
       " 'neg/cv436_20564.txt',\n",
       " 'neg/cv437_24070.txt',\n",
       " 'neg/cv438_8500.txt',\n",
       " 'neg/cv439_17633.txt',\n",
       " 'neg/cv440_16891.txt',\n",
       " 'neg/cv441_15276.txt',\n",
       " 'neg/cv442_15499.txt',\n",
       " 'neg/cv443_22367.txt',\n",
       " 'neg/cv444_9975.txt',\n",
       " 'neg/cv445_26683.txt',\n",
       " 'neg/cv446_12209.txt',\n",
       " 'neg/cv447_27334.txt',\n",
       " 'neg/cv448_16409.txt',\n",
       " 'neg/cv449_9126.txt',\n",
       " 'neg/cv450_8319.txt',\n",
       " 'neg/cv451_11502.txt',\n",
       " 'neg/cv452_5179.txt',\n",
       " 'neg/cv453_10911.txt',\n",
       " 'neg/cv454_21961.txt',\n",
       " 'neg/cv455_28866.txt',\n",
       " 'neg/cv456_20370.txt',\n",
       " 'neg/cv457_19546.txt',\n",
       " 'neg/cv458_9000.txt',\n",
       " 'neg/cv459_21834.txt',\n",
       " 'neg/cv460_11723.txt',\n",
       " 'neg/cv461_21124.txt',\n",
       " 'neg/cv462_20788.txt',\n",
       " 'neg/cv463_10846.txt',\n",
       " 'neg/cv464_17076.txt',\n",
       " 'neg/cv465_23401.txt',\n",
       " 'neg/cv466_20092.txt',\n",
       " 'neg/cv467_26610.txt',\n",
       " 'neg/cv468_16844.txt',\n",
       " 'neg/cv469_21998.txt',\n",
       " 'neg/cv470_17444.txt',\n",
       " 'neg/cv471_18405.txt',\n",
       " 'neg/cv472_29140.txt',\n",
       " 'neg/cv473_7869.txt',\n",
       " 'neg/cv474_10682.txt',\n",
       " 'neg/cv475_22978.txt',\n",
       " 'neg/cv476_18402.txt',\n",
       " 'neg/cv477_23530.txt',\n",
       " 'neg/cv478_15921.txt',\n",
       " 'neg/cv479_5450.txt',\n",
       " 'neg/cv480_21195.txt',\n",
       " 'neg/cv481_7930.txt',\n",
       " 'neg/cv482_11233.txt',\n",
       " 'neg/cv483_18103.txt',\n",
       " 'neg/cv484_26169.txt',\n",
       " 'neg/cv485_26879.txt',\n",
       " 'neg/cv486_9788.txt',\n",
       " 'neg/cv487_11058.txt',\n",
       " 'neg/cv488_21453.txt',\n",
       " 'neg/cv489_19046.txt',\n",
       " 'neg/cv490_18986.txt',\n",
       " 'neg/cv491_12992.txt',\n",
       " 'neg/cv492_19370.txt',\n",
       " 'neg/cv493_14135.txt',\n",
       " 'neg/cv494_18689.txt',\n",
       " 'neg/cv495_16121.txt',\n",
       " 'neg/cv496_11185.txt',\n",
       " 'neg/cv497_27086.txt',\n",
       " 'neg/cv498_9288.txt',\n",
       " 'neg/cv499_11407.txt',\n",
       " 'neg/cv500_10722.txt',\n",
       " 'neg/cv501_12675.txt',\n",
       " 'neg/cv502_10970.txt',\n",
       " 'neg/cv503_11196.txt',\n",
       " 'neg/cv504_29120.txt',\n",
       " 'neg/cv505_12926.txt',\n",
       " 'neg/cv506_17521.txt',\n",
       " 'neg/cv507_9509.txt',\n",
       " 'neg/cv508_17742.txt',\n",
       " 'neg/cv509_17354.txt',\n",
       " 'neg/cv510_24758.txt',\n",
       " 'neg/cv511_10360.txt',\n",
       " 'neg/cv512_17618.txt',\n",
       " 'neg/cv513_7236.txt',\n",
       " 'neg/cv514_12173.txt',\n",
       " 'neg/cv515_18484.txt',\n",
       " 'neg/cv516_12117.txt',\n",
       " 'neg/cv517_20616.txt',\n",
       " 'neg/cv518_14798.txt',\n",
       " 'neg/cv519_16239.txt',\n",
       " 'neg/cv520_13297.txt',\n",
       " 'neg/cv521_1730.txt',\n",
       " 'neg/cv522_5418.txt',\n",
       " 'neg/cv523_18285.txt',\n",
       " 'neg/cv524_24885.txt',\n",
       " 'neg/cv525_17930.txt',\n",
       " 'neg/cv526_12868.txt',\n",
       " 'neg/cv527_10338.txt',\n",
       " 'neg/cv528_11669.txt',\n",
       " 'neg/cv529_10972.txt',\n",
       " 'neg/cv530_17949.txt',\n",
       " 'neg/cv531_26838.txt',\n",
       " 'neg/cv532_6495.txt',\n",
       " 'neg/cv533_9843.txt',\n",
       " 'neg/cv534_15683.txt',\n",
       " 'neg/cv535_21183.txt',\n",
       " 'neg/cv536_27221.txt',\n",
       " 'neg/cv537_13516.txt',\n",
       " 'neg/cv538_28485.txt',\n",
       " 'neg/cv539_21865.txt',\n",
       " 'neg/cv540_3092.txt',\n",
       " 'neg/cv541_28683.txt',\n",
       " 'neg/cv542_20359.txt',\n",
       " 'neg/cv543_5107.txt',\n",
       " 'neg/cv544_5301.txt',\n",
       " 'neg/cv545_12848.txt',\n",
       " 'neg/cv546_12723.txt',\n",
       " 'neg/cv547_18043.txt',\n",
       " 'neg/cv548_18944.txt',\n",
       " 'neg/cv549_22771.txt',\n",
       " 'neg/cv550_23226.txt',\n",
       " 'neg/cv551_11214.txt',\n",
       " 'neg/cv552_0150.txt',\n",
       " 'neg/cv553_26965.txt',\n",
       " 'neg/cv554_14678.txt',\n",
       " 'neg/cv555_25047.txt',\n",
       " 'neg/cv556_16563.txt',\n",
       " 'neg/cv557_12237.txt',\n",
       " 'neg/cv558_29376.txt',\n",
       " 'neg/cv559_0057.txt',\n",
       " 'neg/cv560_18608.txt',\n",
       " 'neg/cv561_9484.txt',\n",
       " 'neg/cv562_10847.txt',\n",
       " 'neg/cv563_18610.txt',\n",
       " 'neg/cv564_12011.txt',\n",
       " 'neg/cv565_29403.txt',\n",
       " 'neg/cv566_8967.txt',\n",
       " 'neg/cv567_29420.txt',\n",
       " 'neg/cv568_17065.txt',\n",
       " 'neg/cv569_26750.txt',\n",
       " 'neg/cv570_28960.txt',\n",
       " 'neg/cv571_29292.txt',\n",
       " 'neg/cv572_20053.txt',\n",
       " 'neg/cv573_29384.txt',\n",
       " 'neg/cv574_23191.txt',\n",
       " 'neg/cv575_22598.txt',\n",
       " 'neg/cv576_15688.txt',\n",
       " 'neg/cv577_28220.txt',\n",
       " 'neg/cv578_16825.txt',\n",
       " 'neg/cv579_12542.txt',\n",
       " 'neg/cv580_15681.txt',\n",
       " 'neg/cv581_20790.txt',\n",
       " 'neg/cv582_6678.txt',\n",
       " 'neg/cv583_29465.txt',\n",
       " 'neg/cv584_29549.txt',\n",
       " 'neg/cv585_23576.txt',\n",
       " 'neg/cv586_8048.txt',\n",
       " 'neg/cv587_20532.txt',\n",
       " 'neg/cv588_14467.txt',\n",
       " 'neg/cv589_12853.txt',\n",
       " 'neg/cv590_20712.txt',\n",
       " 'neg/cv591_24887.txt',\n",
       " 'neg/cv592_23391.txt',\n",
       " 'neg/cv593_11931.txt',\n",
       " 'neg/cv594_11945.txt',\n",
       " 'neg/cv595_26420.txt',\n",
       " 'neg/cv596_4367.txt',\n",
       " 'neg/cv597_26744.txt',\n",
       " 'neg/cv598_18184.txt',\n",
       " 'neg/cv599_22197.txt',\n",
       " 'neg/cv600_25043.txt',\n",
       " 'neg/cv601_24759.txt',\n",
       " 'neg/cv602_8830.txt',\n",
       " 'neg/cv603_18885.txt',\n",
       " 'neg/cv604_23339.txt',\n",
       " 'neg/cv605_12730.txt',\n",
       " 'neg/cv606_17672.txt',\n",
       " 'neg/cv607_8235.txt',\n",
       " 'neg/cv608_24647.txt',\n",
       " 'neg/cv609_25038.txt',\n",
       " 'neg/cv610_24153.txt',\n",
       " 'neg/cv611_2253.txt',\n",
       " 'neg/cv612_5396.txt',\n",
       " 'neg/cv613_23104.txt',\n",
       " 'neg/cv614_11320.txt',\n",
       " 'neg/cv615_15734.txt',\n",
       " 'neg/cv616_29187.txt',\n",
       " 'neg/cv617_9561.txt',\n",
       " 'neg/cv618_9469.txt',\n",
       " 'neg/cv619_13677.txt',\n",
       " 'neg/cv620_2556.txt',\n",
       " 'neg/cv621_15984.txt',\n",
       " 'neg/cv622_8583.txt',\n",
       " 'neg/cv623_16988.txt',\n",
       " 'neg/cv624_11601.txt',\n",
       " 'neg/cv625_13518.txt',\n",
       " 'neg/cv626_7907.txt',\n",
       " 'neg/cv627_12603.txt',\n",
       " 'neg/cv628_20758.txt',\n",
       " 'neg/cv629_16604.txt',\n",
       " 'neg/cv630_10152.txt',\n",
       " 'neg/cv631_4782.txt',\n",
       " 'neg/cv632_9704.txt',\n",
       " 'neg/cv633_29730.txt',\n",
       " 'neg/cv634_11989.txt',\n",
       " 'neg/cv635_0984.txt',\n",
       " 'neg/cv636_16954.txt',\n",
       " 'neg/cv637_13682.txt',\n",
       " 'neg/cv638_29394.txt',\n",
       " 'neg/cv639_10797.txt',\n",
       " 'neg/cv640_5380.txt',\n",
       " 'neg/cv641_13412.txt',\n",
       " 'neg/cv642_29788.txt',\n",
       " 'neg/cv643_29282.txt',\n",
       " 'neg/cv644_18551.txt',\n",
       " 'neg/cv645_17078.txt',\n",
       " 'neg/cv646_16817.txt',\n",
       " 'neg/cv647_15275.txt',\n",
       " 'neg/cv648_17277.txt',\n",
       " 'neg/cv649_13947.txt',\n",
       " 'neg/cv650_15974.txt',\n",
       " 'neg/cv651_11120.txt',\n",
       " 'neg/cv652_15653.txt',\n",
       " 'neg/cv653_2107.txt',\n",
       " 'neg/cv654_19345.txt',\n",
       " 'neg/cv655_12055.txt',\n",
       " 'neg/cv656_25395.txt',\n",
       " 'neg/cv657_25835.txt',\n",
       " 'neg/cv658_11186.txt',\n",
       " 'neg/cv659_21483.txt',\n",
       " 'neg/cv660_23140.txt',\n",
       " 'neg/cv661_25780.txt',\n",
       " 'neg/cv662_14791.txt',\n",
       " 'neg/cv663_14484.txt',\n",
       " 'neg/cv664_4264.txt',\n",
       " 'neg/cv665_29386.txt',\n",
       " 'neg/cv666_20301.txt',\n",
       " 'neg/cv667_19672.txt',\n",
       " 'neg/cv668_18848.txt',\n",
       " 'neg/cv669_24318.txt',\n",
       " 'neg/cv670_2666.txt',\n",
       " 'neg/cv671_5164.txt',\n",
       " 'neg/cv672_27988.txt',\n",
       " 'neg/cv673_25874.txt',\n",
       " 'neg/cv674_11593.txt',\n",
       " 'neg/cv675_22871.txt',\n",
       " 'neg/cv676_22202.txt',\n",
       " 'neg/cv677_18938.txt',\n",
       " 'neg/cv678_14887.txt',\n",
       " 'neg/cv679_28221.txt',\n",
       " 'neg/cv680_10533.txt',\n",
       " 'neg/cv681_9744.txt',\n",
       " 'neg/cv682_17947.txt',\n",
       " 'neg/cv683_13047.txt',\n",
       " 'neg/cv684_12727.txt',\n",
       " 'neg/cv685_5710.txt',\n",
       " 'neg/cv686_15553.txt',\n",
       " 'neg/cv687_22207.txt',\n",
       " 'neg/cv688_7884.txt',\n",
       " 'neg/cv689_13701.txt',\n",
       " 'neg/cv690_5425.txt',\n",
       " 'neg/cv691_5090.txt',\n",
       " 'neg/cv692_17026.txt',\n",
       " 'neg/cv693_19147.txt',\n",
       " 'neg/cv694_4526.txt',\n",
       " 'neg/cv695_22268.txt',\n",
       " 'neg/cv696_29619.txt',\n",
       " 'neg/cv697_12106.txt',\n",
       " 'neg/cv698_16930.txt',\n",
       " 'neg/cv699_7773.txt',\n",
       " 'neg/cv700_23163.txt',\n",
       " 'neg/cv701_15880.txt',\n",
       " 'neg/cv702_12371.txt',\n",
       " 'neg/cv703_17948.txt',\n",
       " 'neg/cv704_17622.txt',\n",
       " 'neg/cv705_11973.txt',\n",
       " 'neg/cv706_25883.txt',\n",
       " 'neg/cv707_11421.txt',\n",
       " 'neg/cv708_28539.txt',\n",
       " 'neg/cv709_11173.txt',\n",
       " 'neg/cv710_23745.txt',\n",
       " 'neg/cv711_12687.txt',\n",
       " 'neg/cv712_24217.txt',\n",
       " 'neg/cv713_29002.txt',\n",
       " 'neg/cv714_19704.txt',\n",
       " 'neg/cv715_19246.txt',\n",
       " 'neg/cv716_11153.txt',\n",
       " 'neg/cv717_17472.txt',\n",
       " 'neg/cv718_12227.txt',\n",
       " 'neg/cv719_5581.txt',\n",
       " 'neg/cv720_5383.txt',\n",
       " 'neg/cv721_28993.txt',\n",
       " 'neg/cv722_7571.txt',\n",
       " 'neg/cv723_9002.txt',\n",
       " 'neg/cv724_15265.txt',\n",
       " 'neg/cv725_10266.txt',\n",
       " 'neg/cv726_4365.txt',\n",
       " 'neg/cv727_5006.txt',\n",
       " 'neg/cv728_17931.txt',\n",
       " 'neg/cv729_10475.txt',\n",
       " 'neg/cv730_10729.txt',\n",
       " 'neg/cv731_3968.txt',\n",
       " 'neg/cv732_13092.txt',\n",
       " 'neg/cv733_9891.txt',\n",
       " 'neg/cv734_22821.txt',\n",
       " 'neg/cv735_20218.txt',\n",
       " 'neg/cv736_24947.txt',\n",
       " 'neg/cv737_28733.txt',\n",
       " 'neg/cv738_10287.txt',\n",
       " 'neg/cv739_12179.txt',\n",
       " 'neg/cv740_13643.txt',\n",
       " 'neg/cv741_12765.txt',\n",
       " 'neg/cv742_8279.txt',\n",
       " 'neg/cv743_17023.txt',\n",
       " 'neg/cv744_10091.txt',\n",
       " 'neg/cv745_14009.txt',\n",
       " 'neg/cv746_10471.txt',\n",
       " 'neg/cv747_18189.txt',\n",
       " 'neg/cv748_14044.txt',\n",
       " 'neg/cv749_18960.txt',\n",
       " 'neg/cv750_10606.txt',\n",
       " 'neg/cv751_17208.txt',\n",
       " 'neg/cv752_25330.txt',\n",
       " 'neg/cv753_11812.txt',\n",
       " 'neg/cv754_7709.txt',\n",
       " 'neg/cv755_24881.txt',\n",
       " 'neg/cv756_23676.txt',\n",
       " 'neg/cv757_10668.txt',\n",
       " 'neg/cv758_9740.txt',\n",
       " 'neg/cv759_15091.txt',\n",
       " 'neg/cv760_8977.txt',\n",
       " 'neg/cv761_13769.txt',\n",
       " 'neg/cv762_15604.txt',\n",
       " 'neg/cv763_16486.txt',\n",
       " 'neg/cv764_12701.txt',\n",
       " 'neg/cv765_20429.txt',\n",
       " 'neg/cv766_7983.txt',\n",
       " 'neg/cv767_15673.txt',\n",
       " 'neg/cv768_12709.txt',\n",
       " 'neg/cv769_8565.txt',\n",
       " 'neg/cv770_11061.txt',\n",
       " 'neg/cv771_28466.txt',\n",
       " 'neg/cv772_12971.txt',\n",
       " 'neg/cv773_20264.txt',\n",
       " 'neg/cv774_15488.txt',\n",
       " 'neg/cv775_17966.txt',\n",
       " 'neg/cv776_21934.txt',\n",
       " 'neg/cv777_10247.txt',\n",
       " 'neg/cv778_18629.txt',\n",
       " 'neg/cv779_18989.txt',\n",
       " 'neg/cv780_8467.txt',\n",
       " 'neg/cv781_5358.txt',\n",
       " 'neg/cv782_21078.txt',\n",
       " 'neg/cv783_14724.txt',\n",
       " 'neg/cv784_16077.txt',\n",
       " 'neg/cv785_23748.txt',\n",
       " 'neg/cv786_23608.txt',\n",
       " 'neg/cv787_15277.txt',\n",
       " 'neg/cv788_26409.txt',\n",
       " 'neg/cv789_12991.txt',\n",
       " 'neg/cv790_16202.txt',\n",
       " 'neg/cv791_17995.txt',\n",
       " 'neg/cv792_3257.txt',\n",
       " 'neg/cv793_15235.txt',\n",
       " 'neg/cv794_17353.txt',\n",
       " 'neg/cv795_10291.txt',\n",
       " 'neg/cv796_17243.txt',\n",
       " 'neg/cv797_7245.txt',\n",
       " 'neg/cv798_24779.txt',\n",
       " 'neg/cv799_19812.txt',\n",
       " 'neg/cv800_13494.txt',\n",
       " 'neg/cv801_26335.txt',\n",
       " 'neg/cv802_28381.txt',\n",
       " 'neg/cv803_8584.txt',\n",
       " 'neg/cv804_11763.txt',\n",
       " 'neg/cv805_21128.txt',\n",
       " 'neg/cv806_9405.txt',\n",
       " 'neg/cv807_23024.txt',\n",
       " 'neg/cv808_13773.txt',\n",
       " 'neg/cv809_5012.txt',\n",
       " 'neg/cv810_13660.txt',\n",
       " 'neg/cv811_22646.txt',\n",
       " 'neg/cv812_19051.txt',\n",
       " 'neg/cv813_6649.txt',\n",
       " 'neg/cv814_20316.txt',\n",
       " 'neg/cv815_23466.txt',\n",
       " 'neg/cv816_15257.txt',\n",
       " 'neg/cv817_3675.txt',\n",
       " 'neg/cv818_10698.txt',\n",
       " 'neg/cv819_9567.txt',\n",
       " 'neg/cv820_24157.txt',\n",
       " 'neg/cv821_29283.txt',\n",
       " 'neg/cv822_21545.txt',\n",
       " 'neg/cv823_17055.txt',\n",
       " 'neg/cv824_9335.txt',\n",
       " 'neg/cv825_5168.txt',\n",
       " 'neg/cv826_12761.txt',\n",
       " 'neg/cv827_19479.txt',\n",
       " 'neg/cv828_21392.txt',\n",
       " 'neg/cv829_21725.txt',\n",
       " 'neg/cv830_5778.txt',\n",
       " 'neg/cv831_16325.txt',\n",
       " 'neg/cv832_24713.txt',\n",
       " 'neg/cv833_11961.txt',\n",
       " 'neg/cv834_23192.txt',\n",
       " 'neg/cv835_20531.txt',\n",
       " 'neg/cv836_14311.txt',\n",
       " 'neg/cv837_27232.txt',\n",
       " 'neg/cv838_25886.txt',\n",
       " 'neg/cv839_22807.txt',\n",
       " 'neg/cv840_18033.txt',\n",
       " 'neg/cv841_3367.txt',\n",
       " 'neg/cv842_5702.txt',\n",
       " 'neg/cv843_17054.txt',\n",
       " 'neg/cv844_13890.txt',\n",
       " 'neg/cv845_15886.txt',\n",
       " 'neg/cv846_29359.txt',\n",
       " 'neg/cv847_20855.txt',\n",
       " 'neg/cv848_10061.txt',\n",
       " 'neg/cv849_17215.txt',\n",
       " 'neg/cv850_18185.txt',\n",
       " 'neg/cv851_21895.txt',\n",
       " 'neg/cv852_27512.txt',\n",
       " 'neg/cv853_29119.txt',\n",
       " 'neg/cv854_18955.txt',\n",
       " 'neg/cv855_22134.txt',\n",
       " 'neg/cv856_28882.txt',\n",
       " 'neg/cv857_17527.txt',\n",
       " 'neg/cv858_20266.txt',\n",
       " 'neg/cv859_15689.txt',\n",
       " 'neg/cv860_15520.txt',\n",
       " 'neg/cv861_12809.txt',\n",
       " 'neg/cv862_15924.txt',\n",
       " 'neg/cv863_7912.txt',\n",
       " 'neg/cv864_3087.txt',\n",
       " 'neg/cv865_28796.txt',\n",
       " 'neg/cv866_29447.txt',\n",
       " 'neg/cv867_18362.txt',\n",
       " 'neg/cv868_12799.txt',\n",
       " 'neg/cv869_24782.txt',\n",
       " 'neg/cv870_18090.txt',\n",
       " 'neg/cv871_25971.txt',\n",
       " 'neg/cv872_13710.txt',\n",
       " 'neg/cv873_19937.txt',\n",
       " 'neg/cv874_12182.txt',\n",
       " 'neg/cv875_5622.txt',\n",
       " 'neg/cv876_9633.txt',\n",
       " 'neg/cv877_29132.txt',\n",
       " 'neg/cv878_17204.txt',\n",
       " 'neg/cv879_16585.txt',\n",
       " 'neg/cv880_29629.txt',\n",
       " 'neg/cv881_14767.txt',\n",
       " 'neg/cv882_10042.txt',\n",
       " 'neg/cv883_27621.txt',\n",
       " 'neg/cv884_15230.txt',\n",
       " 'neg/cv885_13390.txt',\n",
       " 'neg/cv886_19210.txt',\n",
       " 'neg/cv887_5306.txt',\n",
       " 'neg/cv888_25678.txt',\n",
       " 'neg/cv889_22670.txt',\n",
       " 'neg/cv890_3515.txt',\n",
       " 'neg/cv891_6035.txt',\n",
       " 'neg/cv892_18788.txt',\n",
       " 'neg/cv893_26731.txt',\n",
       " 'neg/cv894_22140.txt',\n",
       " 'neg/cv895_22200.txt',\n",
       " 'neg/cv896_17819.txt',\n",
       " 'neg/cv897_11703.txt',\n",
       " 'neg/cv898_1576.txt',\n",
       " 'neg/cv899_17812.txt',\n",
       " 'neg/cv900_10800.txt',\n",
       " 'neg/cv901_11934.txt',\n",
       " 'neg/cv902_13217.txt',\n",
       " 'neg/cv903_18981.txt',\n",
       " 'neg/cv904_25663.txt',\n",
       " 'neg/cv905_28965.txt',\n",
       " 'neg/cv906_12332.txt',\n",
       " 'neg/cv907_3193.txt',\n",
       " 'neg/cv908_17779.txt',\n",
       " 'neg/cv909_9973.txt',\n",
       " 'neg/cv910_21930.txt',\n",
       " 'neg/cv911_21695.txt',\n",
       " 'neg/cv912_5562.txt',\n",
       " 'neg/cv913_29127.txt',\n",
       " 'neg/cv914_2856.txt',\n",
       " 'neg/cv915_9342.txt',\n",
       " 'neg/cv916_17034.txt',\n",
       " 'neg/cv917_29484.txt',\n",
       " 'neg/cv918_27080.txt',\n",
       " 'neg/cv919_18155.txt',\n",
       " 'neg/cv920_29423.txt',\n",
       " 'neg/cv921_13988.txt',\n",
       " 'neg/cv922_10185.txt',\n",
       " 'neg/cv923_11951.txt',\n",
       " 'neg/cv924_29397.txt',\n",
       " 'neg/cv925_9459.txt',\n",
       " 'neg/cv926_18471.txt',\n",
       " 'neg/cv927_11471.txt',\n",
       " 'neg/cv928_9478.txt',\n",
       " 'neg/cv929_1841.txt',\n",
       " 'neg/cv930_14949.txt',\n",
       " 'neg/cv931_18783.txt',\n",
       " 'neg/cv932_14854.txt',\n",
       " 'neg/cv933_24953.txt',\n",
       " 'neg/cv934_20426.txt',\n",
       " 'neg/cv935_24977.txt',\n",
       " 'neg/cv936_17473.txt',\n",
       " 'neg/cv937_9816.txt',\n",
       " 'neg/cv938_10706.txt',\n",
       " 'neg/cv939_11247.txt',\n",
       " 'neg/cv940_18935.txt',\n",
       " 'neg/cv941_10718.txt',\n",
       " 'neg/cv942_18509.txt',\n",
       " 'neg/cv943_23547.txt',\n",
       " 'neg/cv944_15042.txt',\n",
       " 'neg/cv945_13012.txt',\n",
       " 'neg/cv946_20084.txt',\n",
       " 'neg/cv947_11316.txt',\n",
       " 'neg/cv948_25870.txt',\n",
       " 'neg/cv949_21565.txt',\n",
       " 'neg/cv950_13478.txt',\n",
       " 'neg/cv951_11816.txt',\n",
       " 'neg/cv952_26375.txt',\n",
       " 'neg/cv953_7078.txt',\n",
       " 'neg/cv954_19932.txt',\n",
       " 'neg/cv955_26154.txt',\n",
       " 'neg/cv956_12547.txt',\n",
       " 'neg/cv957_9059.txt',\n",
       " 'neg/cv958_13020.txt',\n",
       " 'neg/cv959_16218.txt',\n",
       " 'neg/cv960_28877.txt',\n",
       " 'neg/cv961_5578.txt',\n",
       " 'neg/cv962_9813.txt',\n",
       " 'neg/cv963_7208.txt',\n",
       " 'neg/cv964_5794.txt',\n",
       " 'neg/cv965_26688.txt',\n",
       " 'neg/cv966_28671.txt',\n",
       " 'neg/cv967_5626.txt',\n",
       " 'neg/cv968_25413.txt',\n",
       " 'neg/cv969_14760.txt',\n",
       " 'neg/cv970_19532.txt',\n",
       " 'neg/cv971_11790.txt',\n",
       " 'neg/cv972_26837.txt',\n",
       " 'neg/cv973_10171.txt',\n",
       " 'neg/cv974_24303.txt',\n",
       " 'neg/cv975_11920.txt',\n",
       " 'neg/cv976_10724.txt',\n",
       " 'neg/cv977_4776.txt',\n",
       " 'neg/cv978_22192.txt',\n",
       " 'neg/cv979_2029.txt',\n",
       " 'neg/cv980_11851.txt',\n",
       " 'neg/cv981_16679.txt',\n",
       " 'neg/cv982_22209.txt',\n",
       " 'neg/cv983_24219.txt',\n",
       " 'neg/cv984_14006.txt',\n",
       " 'neg/cv985_5964.txt',\n",
       " 'neg/cv986_15092.txt',\n",
       " 'neg/cv987_7394.txt',\n",
       " 'neg/cv988_20168.txt',\n",
       " 'neg/cv989_17297.txt',\n",
       " 'neg/cv990_12443.txt',\n",
       " 'neg/cv991_19973.txt',\n",
       " 'neg/cv992_12806.txt',\n",
       " 'neg/cv993_29565.txt',\n",
       " 'neg/cv994_13229.txt',\n",
       " 'neg/cv995_23113.txt',\n",
       " 'neg/cv996_12447.txt',\n",
       " 'neg/cv997_5152.txt',\n",
       " 'neg/cv998_15691.txt',\n",
       " 'neg/cv999_14636.txt',\n",
       " ...]"
      ]
     },
     "execution_count": 4,
     "metadata": {},
     "output_type": "execute_result"
    }
   ],
   "source": [
    "movie_reviews.fileids()"
   ]
  },
  {
   "cell_type": "code",
   "execution_count": 5,
   "metadata": {},
   "outputs": [
    {
     "data": {
      "text/plain": [
       "['neg/cv000_29416.txt',\n",
       " 'neg/cv001_19502.txt',\n",
       " 'neg/cv002_17424.txt',\n",
       " 'neg/cv003_12683.txt',\n",
       " 'neg/cv004_12641.txt']"
      ]
     },
     "execution_count": 5,
     "metadata": {},
     "output_type": "execute_result"
    }
   ],
   "source": [
    "movie_reviews.fileids()[:5]"
   ]
  },
  {
   "cell_type": "code",
   "execution_count": 6,
   "metadata": {},
   "outputs": [
    {
     "data": {
      "text/plain": [
       "['pos/cv995_21821.txt',\n",
       " 'pos/cv996_11592.txt',\n",
       " 'pos/cv997_5046.txt',\n",
       " 'pos/cv998_14111.txt',\n",
       " 'pos/cv999_13106.txt']"
      ]
     },
     "execution_count": 6,
     "metadata": {},
     "output_type": "execute_result"
    }
   ],
   "source": [
    "movie_reviews.fileids()[-5:]"
   ]
  },
  {
   "cell_type": "markdown",
   "metadata": {},
   "source": [
    "fileids can also filter the available files based on their category, which is the name of the subfolder they \n",
    "are located in. Therefore we can have a list of positive reviews and negative reviews seperately."
   ]
  },
  {
   "cell_type": "code",
   "execution_count": 7,
   "metadata": {
    "collapsed": true
   },
   "outputs": [],
   "source": [
    "negative_fields = movie_reviews.fileids('neg')\n",
    "positive_fields = movie_reviews.fileids('pos')\n",
    "\n"
   ]
  },
  {
   "cell_type": "code",
   "execution_count": 8,
   "metadata": {},
   "outputs": [
    {
     "data": {
      "text/plain": [
       "(1000, 1000)"
      ]
     },
     "execution_count": 8,
     "metadata": {},
     "output_type": "execute_result"
    }
   ],
   "source": [
    "len(negative_fields), len(positive_fields)"
   ]
  },
  {
   "cell_type": "markdown",
   "metadata": {},
   "source": [
    "We can inspect one of the reviews using the raw method of movie_reviews, each file is split into sentences, the \n",
    "curators of this dataset also removed from each review from any direct mention of the rating of the movie. "
   ]
  },
  {
   "cell_type": "code",
   "execution_count": 9,
   "metadata": {},
   "outputs": [
    {
     "name": "stdout",
     "output_type": "stream",
     "text": [
      "films adapted from comic books have had plenty of success , whether they're about superheroes ( batman , superman , spawn ) , or geared toward kids ( casper ) or the arthouse crowd ( ghost world ) , but there's never really been a comic book like from hell before . \n",
      "for starters , it was created by alan moore ( and eddie campbell ) , who brought the medium to a whole new level in the mid '80s with a 12-part series called the watchmen . \n",
      "to say moore and campbell thoroughly researched the subject of jack the ripper would be like saying michael jackson is starting to look a little odd . \n",
      "the book ( or \" graphic novel , \" if you will ) is over 500 pages long and includes nearly 30 more that consist of nothing but footnotes . \n",
      "in other words , don't dismiss this film because of its source . \n",
      "if you can get past the whole comic book thing , you might find another stumbling block in from hell's directors , albert and allen hughes . \n",
      "getting the hughes brothers to direct this seems almost as ludicrous as casting carrot top in , well , anything , but riddle me this : who better to direct a film that's set in the ghetto and features really violent street crime than the mad geniuses behind menace ii society ? \n",
      "the ghetto in question is , of course , whitechapel in 1888 london's east end . \n",
      "it's a filthy , sooty place where the whores ( called \" unfortunates \" ) are starting to get a little nervous about this mysterious psychopath who has been carving through their profession with surgical precision . \n",
      "when the first stiff turns up , copper peter godley ( robbie coltrane , the world is not enough ) calls in inspector frederick abberline ( johnny depp , blow ) to crack the case . \n",
      "abberline , a widower , has prophetic dreams he unsuccessfully tries to quell with copious amounts of absinthe and opium . \n",
      "upon arriving in whitechapel , he befriends an unfortunate named mary kelly ( heather graham , say it isn't so ) and proceeds to investigate the horribly gruesome crimes that even the police surgeon can't stomach . \n",
      "i don't think anyone needs to be briefed on jack the ripper , so i won't go into the particulars here , other than to say moore and campbell have a unique and interesting theory about both the identity of the killer and the reasons he chooses to slay . \n",
      "in the comic , they don't bother cloaking the identity of the ripper , but screenwriters terry hayes ( vertical limit ) and rafael yglesias ( les mis ? rables ) do a good job of keeping him hidden from viewers until the very end . \n",
      "it's funny to watch the locals blindly point the finger of blame at jews and indians because , after all , an englishman could never be capable of committing such ghastly acts . \n",
      "and from hell's ending had me whistling the stonecutters song from the simpsons for days ( \" who holds back the electric car/who made steve guttenberg a star ? \" ) . \n",
      "don't worry - it'll all make sense when you see it . \n",
      "now onto from hell's appearance : it's certainly dark and bleak enough , and it's surprising to see how much more it looks like a tim burton film than planet of the apes did ( at times , it seems like sleepy hollow 2 ) . \n",
      "the print i saw wasn't completely finished ( both color and music had not been finalized , so no comments about marilyn manson ) , but cinematographer peter deming ( don't say a word ) ably captures the dreariness of victorian-era london and helped make the flashy killing scenes remind me of the crazy flashbacks in twin peaks , even though the violence in the film pales in comparison to that in the black-and-white comic . \n",
      "oscar winner martin childs' ( shakespeare in love ) production design turns the original prague surroundings into one creepy place . \n",
      "even the acting in from hell is solid , with the dreamy depp turning in a typically strong performance and deftly handling a british accent . \n",
      "ians holm ( joe gould's secret ) and richardson ( 102 dalmatians ) log in great supporting roles , but the big surprise here is graham . \n",
      "i cringed the first time she opened her mouth , imagining her attempt at an irish accent , but it actually wasn't half bad . \n",
      "the film , however , is all good . \n",
      "2 : 00 - r for strong violence/gore , sexuality , language and drug content \n",
      "\n"
     ]
    }
   ],
   "source": [
    "print(movie_reviews.raw(fileids=positive_fields[0]))"
   ]
  },
  {
   "cell_type": "markdown",
   "metadata": {},
   "source": [
    "## TOKENIZATION"
   ]
  },
  {
   "cell_type": "markdown",
   "metadata": {},
   "source": [
    "### Tokenize Text in Words"
   ]
  },
  {
   "cell_type": "code",
   "execution_count": 10,
   "metadata": {
    "collapsed": true
   },
   "outputs": [],
   "source": [
    "romeo_text = \"\"\"Why then, O brawling love! O loving hate!\n",
    "O any thing, of nothing first create!\n",
    "O heavy lightness, serious vanity,\n",
    "Mishappen chaos of well seeming forms,\n",
    "Feather of lead, bright smoke, cold fire, sick health,\n",
    "Still-walking sleep, that is not what it is!\n",
    "This love feel I, that feel no love in this.\"\"\""
   ]
  },
  {
   "cell_type": "markdown",
   "metadata": {},
   "source": [
    "The first step in NLP is generally to split the text into words.\n",
    "This process might appear simple, but it is very tedious to handle all corner cases.\n",
    "See for example all the issues with punctuation we have to solve if we just start with a split on whitespaces. "
   ]
  },
  {
   "cell_type": "code",
   "execution_count": 11,
   "metadata": {},
   "outputs": [
    {
     "data": {
      "text/plain": [
       "['Why',\n",
       " 'then,',\n",
       " 'O',\n",
       " 'brawling',\n",
       " 'love!',\n",
       " 'O',\n",
       " 'loving',\n",
       " 'hate!',\n",
       " 'O',\n",
       " 'any',\n",
       " 'thing,',\n",
       " 'of',\n",
       " 'nothing',\n",
       " 'first',\n",
       " 'create!',\n",
       " 'O',\n",
       " 'heavy',\n",
       " 'lightness,',\n",
       " 'serious',\n",
       " 'vanity,',\n",
       " 'Mishappen',\n",
       " 'chaos',\n",
       " 'of',\n",
       " 'well',\n",
       " 'seeming',\n",
       " 'forms,',\n",
       " 'Feather',\n",
       " 'of',\n",
       " 'lead,',\n",
       " 'bright',\n",
       " 'smoke,',\n",
       " 'cold',\n",
       " 'fire,',\n",
       " 'sick',\n",
       " 'health,',\n",
       " 'Still-walking',\n",
       " 'sleep,',\n",
       " 'that',\n",
       " 'is',\n",
       " 'not',\n",
       " 'what',\n",
       " 'it',\n",
       " 'is!',\n",
       " 'This',\n",
       " 'love',\n",
       " 'feel',\n",
       " 'I,',\n",
       " 'that',\n",
       " 'feel',\n",
       " 'no',\n",
       " 'love',\n",
       " 'in',\n",
       " 'this.']"
      ]
     },
     "execution_count": 11,
     "metadata": {},
     "output_type": "execute_result"
    }
   ],
   "source": [
    "romeo_text.split()"
   ]
  },
  {
   "cell_type": "markdown",
   "metadata": {},
   "source": [
    "nltk has a sophisticated word tokenizer trained on English named punkt, we first have to download its parameter."
   ]
  },
  {
   "cell_type": "code",
   "execution_count": 12,
   "metadata": {},
   "outputs": [
    {
     "name": "stdout",
     "output_type": "stream",
     "text": [
      "[nltk_data] Downloading package punkt to\n",
      "[nltk_data]     /Users/kishoreraj/nltk_data...\n",
      "[nltk_data]   Package punkt is already up-to-date!\n"
     ]
    },
    {
     "data": {
      "text/plain": [
       "True"
      ]
     },
     "execution_count": 12,
     "metadata": {},
     "output_type": "execute_result"
    }
   ],
   "source": [
    "nltk.download(\"punkt\")"
   ]
  },
  {
   "cell_type": "markdown",
   "metadata": {},
   "source": [
    "The we can use this word_tokenizer function to properly tokenize the text, compare to the \n",
    "whitespace splitting we used above."
   ]
  },
  {
   "cell_type": "code",
   "execution_count": 13,
   "metadata": {
    "collapsed": true
   },
   "outputs": [],
   "source": [
    "romeo_words= nltk.word_tokenize(romeo_text)"
   ]
  },
  {
   "cell_type": "code",
   "execution_count": 14,
   "metadata": {},
   "outputs": [
    {
     "data": {
      "text/plain": [
       "['Why',\n",
       " 'then',\n",
       " ',',\n",
       " 'O',\n",
       " 'brawling',\n",
       " 'love',\n",
       " '!',\n",
       " 'O',\n",
       " 'loving',\n",
       " 'hate',\n",
       " '!',\n",
       " 'O',\n",
       " 'any',\n",
       " 'thing',\n",
       " ',',\n",
       " 'of',\n",
       " 'nothing',\n",
       " 'first',\n",
       " 'create',\n",
       " '!',\n",
       " 'O',\n",
       " 'heavy',\n",
       " 'lightness',\n",
       " ',',\n",
       " 'serious',\n",
       " 'vanity',\n",
       " ',',\n",
       " 'Mishappen',\n",
       " 'chaos',\n",
       " 'of',\n",
       " 'well',\n",
       " 'seeming',\n",
       " 'forms',\n",
       " ',',\n",
       " 'Feather',\n",
       " 'of',\n",
       " 'lead',\n",
       " ',',\n",
       " 'bright',\n",
       " 'smoke',\n",
       " ',',\n",
       " 'cold',\n",
       " 'fire',\n",
       " ',',\n",
       " 'sick',\n",
       " 'health',\n",
       " ',',\n",
       " 'Still-walking',\n",
       " 'sleep',\n",
       " ',',\n",
       " 'that',\n",
       " 'is',\n",
       " 'not',\n",
       " 'what',\n",
       " 'it',\n",
       " 'is',\n",
       " '!',\n",
       " 'This',\n",
       " 'love',\n",
       " 'feel',\n",
       " 'I',\n",
       " ',',\n",
       " 'that',\n",
       " 'feel',\n",
       " 'no',\n",
       " 'love',\n",
       " 'in',\n",
       " 'this',\n",
       " '.']"
      ]
     },
     "execution_count": 14,
     "metadata": {},
     "output_type": "execute_result"
    }
   ],
   "source": [
    "romeo_words"
   ]
  },
  {
   "cell_type": "markdown",
   "metadata": {},
   "source": [
    "Good news is that movie_reviews already has a direct access to tokenized text with the words method:"
   ]
  },
  {
   "cell_type": "code",
   "execution_count": 15,
   "metadata": {},
   "outputs": [
    {
     "data": {
      "text/plain": [
       "['films', 'adapted', 'from', 'comic', 'books', 'have', ...]"
      ]
     },
     "execution_count": 15,
     "metadata": {},
     "output_type": "execute_result"
    }
   ],
   "source": [
    "movie_reviews.words(fileids=positive_fields[0])"
   ]
  },
  {
   "cell_type": "markdown",
   "metadata": {},
   "source": [
    "# Build a bag-of-words model"
   ]
  },
  {
   "cell_type": "markdown",
   "metadata": {},
   "source": [
    "From the bag of word model, we build features to be used by a classifier. Here we assume that each word is a feature that can either be True or False. We implement this in Python as a dictionary where for each word in a sentence\n",
    "we assign True. If a word is missing we assign False."
   ]
  },
  {
   "cell_type": "code",
   "execution_count": 16,
   "metadata": {},
   "outputs": [
    {
     "data": {
      "text/plain": [
       "{'!': True,\n",
       " ',': True,\n",
       " '.': True,\n",
       " 'Feather': True,\n",
       " 'I': True,\n",
       " 'Mishappen': True,\n",
       " 'O': True,\n",
       " 'Still-walking': True,\n",
       " 'This': True,\n",
       " 'Why': True,\n",
       " 'any': True,\n",
       " 'brawling': True,\n",
       " 'bright': True,\n",
       " 'chaos': True,\n",
       " 'cold': True,\n",
       " 'create': True,\n",
       " 'feel': True,\n",
       " 'fire': True,\n",
       " 'first': True,\n",
       " 'forms': True,\n",
       " 'hate': True,\n",
       " 'health': True,\n",
       " 'heavy': True,\n",
       " 'in': True,\n",
       " 'is': True,\n",
       " 'it': True,\n",
       " 'lead': True,\n",
       " 'lightness': True,\n",
       " 'love': True,\n",
       " 'loving': True,\n",
       " 'no': True,\n",
       " 'not': True,\n",
       " 'nothing': True,\n",
       " 'of': True,\n",
       " 'seeming': True,\n",
       " 'serious': True,\n",
       " 'sick': True,\n",
       " 'sleep': True,\n",
       " 'smoke': True,\n",
       " 'that': True,\n",
       " 'then': True,\n",
       " 'thing': True,\n",
       " 'this': True,\n",
       " 'vanity': True,\n",
       " 'well': True,\n",
       " 'what': True}"
      ]
     },
     "execution_count": 16,
     "metadata": {},
     "output_type": "execute_result"
    }
   ],
   "source": [
    "{word: True for word in romeo_words}"
   ]
  },
  {
   "cell_type": "code",
   "execution_count": 17,
   "metadata": {},
   "outputs": [
    {
     "data": {
      "text/plain": [
       "dict"
      ]
     },
     "execution_count": 17,
     "metadata": {},
     "output_type": "execute_result"
    }
   ],
   "source": [
    "type(_)"
   ]
  },
  {
   "cell_type": "code",
   "execution_count": 18,
   "metadata": {
    "collapsed": true
   },
   "outputs": [],
   "source": [
    "def build_bag_of_words_features(words):\n",
    "    return{word:True for word in words}"
   ]
  },
  {
   "cell_type": "code",
   "execution_count": 19,
   "metadata": {},
   "outputs": [
    {
     "data": {
      "text/plain": [
       "{'!': True,\n",
       " ',': True,\n",
       " '.': True,\n",
       " 'Feather': True,\n",
       " 'I': True,\n",
       " 'Mishappen': True,\n",
       " 'O': True,\n",
       " 'Still-walking': True,\n",
       " 'This': True,\n",
       " 'Why': True,\n",
       " 'any': True,\n",
       " 'brawling': True,\n",
       " 'bright': True,\n",
       " 'chaos': True,\n",
       " 'cold': True,\n",
       " 'create': True,\n",
       " 'feel': True,\n",
       " 'fire': True,\n",
       " 'first': True,\n",
       " 'forms': True,\n",
       " 'hate': True,\n",
       " 'health': True,\n",
       " 'heavy': True,\n",
       " 'in': True,\n",
       " 'is': True,\n",
       " 'it': True,\n",
       " 'lead': True,\n",
       " 'lightness': True,\n",
       " 'love': True,\n",
       " 'loving': True,\n",
       " 'no': True,\n",
       " 'not': True,\n",
       " 'nothing': True,\n",
       " 'of': True,\n",
       " 'seeming': True,\n",
       " 'serious': True,\n",
       " 'sick': True,\n",
       " 'sleep': True,\n",
       " 'smoke': True,\n",
       " 'that': True,\n",
       " 'then': True,\n",
       " 'thing': True,\n",
       " 'this': True,\n",
       " 'vanity': True,\n",
       " 'well': True,\n",
       " 'what': True}"
      ]
     },
     "execution_count": 19,
     "metadata": {},
     "output_type": "execute_result"
    }
   ],
   "source": [
    "build_bag_of_words_features(romeo_words)"
   ]
  },
  {
   "cell_type": "markdown",
   "metadata": {},
   "source": [
    "This is what we wanted, but notice, here, punctuations like ! mark or , or . are still showing up,\n",
    "and those are useless for classification purposes. Similarly, we have words like of, that, or is, or in. \n",
    "Those dont need to be included. So those words are named stopwords, and nltk actually has a corpus of them \n",
    "for each language, or in this case English."
   ]
  },
  {
   "cell_type": "code",
   "execution_count": 20,
   "metadata": {},
   "outputs": [
    {
     "name": "stdout",
     "output_type": "stream",
     "text": [
      "[nltk_data] Downloading package stopwords to\n",
      "[nltk_data]     /Users/kishoreraj/nltk_data...\n",
      "[nltk_data]   Package stopwords is already up-to-date!\n"
     ]
    },
    {
     "data": {
      "text/plain": [
       "True"
      ]
     },
     "execution_count": 20,
     "metadata": {},
     "output_type": "execute_result"
    }
   ],
   "source": [
    "nltk.download(\"stopwords\")"
   ]
  },
  {
   "cell_type": "code",
   "execution_count": 21,
   "metadata": {
    "collapsed": true
   },
   "outputs": [],
   "source": [
    "import string"
   ]
  },
  {
   "cell_type": "code",
   "execution_count": 22,
   "metadata": {},
   "outputs": [
    {
     "data": {
      "text/plain": [
       "'!\"#$%&\\'()*+,-./:;<=>?@[\\\\]^_`{|}~'"
      ]
     },
     "execution_count": 22,
     "metadata": {},
     "output_type": "execute_result"
    }
   ],
   "source": [
    "string.punctuation"
   ]
  },
  {
   "cell_type": "markdown",
   "metadata": {},
   "source": [
    "Using Pythonstring.punctuation list and the English stopwords we can build better features by filtering out those words that would not be helpful in classification."
   ]
  },
  {
   "cell_type": "code",
   "execution_count": 23,
   "metadata": {
    "collapsed": true
   },
   "outputs": [],
   "source": [
    "useless_words=nltk.corpus.stopwords.words(\"english\")+list(string.punctuation)"
   ]
  },
  {
   "cell_type": "code",
   "execution_count": 24,
   "metadata": {
    "collapsed": true
   },
   "outputs": [],
   "source": [
    "def bag_of_word_features_filtered(words):\n",
    "    return{\n",
    "        word:1 for word in words\\\n",
    "        if not word in useless_words}\n",
    "    "
   ]
  },
  {
   "cell_type": "code",
   "execution_count": 25,
   "metadata": {},
   "outputs": [
    {
     "data": {
      "text/plain": [
       "{'Feather': 1,\n",
       " 'I': 1,\n",
       " 'Mishappen': 1,\n",
       " 'O': 1,\n",
       " 'Still-walking': 1,\n",
       " 'This': 1,\n",
       " 'Why': 1,\n",
       " 'brawling': 1,\n",
       " 'bright': 1,\n",
       " 'chaos': 1,\n",
       " 'cold': 1,\n",
       " 'create': 1,\n",
       " 'feel': 1,\n",
       " 'fire': 1,\n",
       " 'first': 1,\n",
       " 'forms': 1,\n",
       " 'hate': 1,\n",
       " 'health': 1,\n",
       " 'heavy': 1,\n",
       " 'lead': 1,\n",
       " 'lightness': 1,\n",
       " 'love': 1,\n",
       " 'loving': 1,\n",
       " 'nothing': 1,\n",
       " 'seeming': 1,\n",
       " 'serious': 1,\n",
       " 'sick': 1,\n",
       " 'sleep': 1,\n",
       " 'smoke': 1,\n",
       " 'thing': 1,\n",
       " 'vanity': 1,\n",
       " 'well': 1}"
      ]
     },
     "execution_count": 25,
     "metadata": {},
     "output_type": "execute_result"
    }
   ],
   "source": [
    "bag_of_word_features_filtered(romeo_words)"
   ]
  },
  {
   "cell_type": "markdown",
   "metadata": {},
   "source": [
    "# Plotting Frequencies of Words"
   ]
  },
  {
   "cell_type": "markdown",
   "metadata": {},
   "source": [
    "It is common to explore the dataset before starting the analysis. Below we find the most common words and plot their\n",
    "frequency.\n",
    "\n",
    "Using the .words() function with no argument we can extract the words from the entire dataset and check that is \n",
    "about 1.6 millions."
   ]
  },
  {
   "cell_type": "code",
   "execution_count": 26,
   "metadata": {},
   "outputs": [
    {
     "data": {
      "text/plain": [
       "1583820"
      ]
     },
     "execution_count": 26,
     "metadata": {},
     "output_type": "execute_result"
    }
   ],
   "source": [
    "all_words=movie_reviews.words()\n",
    "len(all_words)"
   ]
  },
  {
   "cell_type": "markdown",
   "metadata": {},
   "source": [
    "First we want to filter out useless_words and this will reduce the length of the dataset by a factor of 2. "
   ]
  },
  {
   "cell_type": "code",
   "execution_count": 27,
   "metadata": {
    "collapsed": true
   },
   "outputs": [],
   "source": [
    "filtered_words = [word for word in movie_reviews.words() if not word in useless_words]"
   ]
  },
  {
   "cell_type": "code",
   "execution_count": 28,
   "metadata": {},
   "outputs": [
    {
     "data": {
      "text/plain": [
       "710579"
      ]
     },
     "execution_count": 28,
     "metadata": {},
     "output_type": "execute_result"
    }
   ],
   "source": [
    "len(filtered_words)"
   ]
  },
  {
   "cell_type": "markdown",
   "metadata": {},
   "source": [
    "The collection package of the Standard Library conatains a Counter class that is handy for counting words in our list."
   ]
  },
  {
   "cell_type": "code",
   "execution_count": 38,
   "metadata": {},
   "outputs": [],
   "source": [
    "from collections import Counter\n",
    "word_counter = Counter(filtered_words)\n",
    "\n"
   ]
  },
  {
   "cell_type": "markdown",
   "metadata": {},
   "source": [
    "It also has a most_common() method to access the word with highest count."
   ]
  },
  {
   "cell_type": "code",
   "execution_count": 32,
   "metadata": {},
   "outputs": [],
   "source": [
    "most_common_words = word_counter.most_common()[:5]\n"
   ]
  },
  {
   "cell_type": "code",
   "execution_count": 33,
   "metadata": {},
   "outputs": [
    {
     "data": {
      "text/plain": [
       "[('film', 9517),\n",
       " ('one', 5852),\n",
       " ('movie', 5771),\n",
       " ('like', 3690),\n",
       " ('even', 2565)]"
      ]
     },
     "execution_count": 33,
     "metadata": {},
     "output_type": "execute_result"
    }
   ],
   "source": [
    "most_common_words"
   ]
  },
  {
   "cell_type": "code",
   "execution_count": 34,
   "metadata": {
    "collapsed": true
   },
   "outputs": [],
   "source": [
    "%matplotlib inline\n",
    "import matplotlib.pyplot as plt"
   ]
  },
  {
   "cell_type": "code",
   "execution_count": 42,
   "metadata": {},
   "outputs": [],
   "source": [
    "sorted_word_counts = sorted(list(word_counter.values()),reverse=True)\n"
   ]
  },
  {
   "cell_type": "code",
   "execution_count": 43,
   "metadata": {},
   "outputs": [
    {
     "data": {
      "image/png": "[encoded data removed]",
      "text/plain": [
       "<matplotlib.figure.Figure at 0x118ca2748>"
      ]
     },
     "metadata": {},
     "output_type": "display_data"
    }
   ],
   "source": [
    "plt.loglog(sorted_word_counts)\n",
    "plt.ylabel(\"Frequency\")\n",
    "plt.xlabel(\"Word Rank\")\n",
    "plt.show()\n"
   ]
  },
  {
   "cell_type": "markdown",
   "metadata": {},
   "source": [
    "Another related plot is the histogram of sorted_word_counts, which displays how many words have a count in a \n",
    "specific range.\n",
    "\n",
    "Ofcourse, the distribution is highly peaked at low counts i.e. most of the words appear a low count,\n",
    "so we better display it in a semilogarithmic axes to inspect the tail of distribution.\n"
   ]
  },
  {
   "cell_type": "code",
   "execution_count": 44,
   "metadata": {},
   "outputs": [
    {
     "data": {
      "image/png": "[encoded data removed]",
      "text/plain": [
       "<matplotlib.figure.Figure at 0x10c055f98>"
      ]
     },
     "metadata": {},
     "output_type": "display_data"
    }
   ],
   "source": [
    "plt.hist(sorted_word_counts, bins=50)\n",
    "plt.show()"
   ]
  },
  {
   "cell_type": "code",
   "execution_count": 45,
   "metadata": {},
   "outputs": [
    {
     "data": {
      "image/png": "[encoded data removed]",
      "text/plain": [
       "<matplotlib.figure.Figure at 0x115307d68>"
      ]
     },
     "metadata": {},
     "output_type": "display_data"
    }
   ],
   "source": [
    "plt.hist(sorted_word_counts, bins=50, log=True)\n",
    "plt.show()"
   ]
  },
  {
   "cell_type": "markdown",
   "metadata": {},
   "source": [
    "# Train a Classifier for Sentiment Analysis"
   ]
  },
  {
   "cell_type": "code",
   "execution_count": 46,
   "metadata": {},
   "outputs": [],
   "source": [
    "negative_features = [\n",
    "    (bag_of_word_features_filtered(movie_reviews.words(fileids=[f])),'neg') \\\n",
    "    for f in negative_fields]"
   ]
  },
  {
   "cell_type": "code",
   "execution_count": 47,
   "metadata": {},
   "outputs": [
    {
     "name": "stdout",
     "output_type": "stream",
     "text": [
      "({'quest': 1, 'camelot': 1, 'warner': 1, 'bros': 1, 'first': 1, 'feature': 1, 'length': 1, 'fully': 1, 'animated': 1, 'attempt': 1, 'steal': 1, 'clout': 1, 'disney': 1, 'cartoon': 1, 'empire': 1, 'mouse': 1, 'reason': 1, 'worried': 1, 'recent': 1, 'challenger': 1, 'throne': 1, 'last': 1, 'fall': 1, 'promising': 1, 'flawed': 1, '20th': 1, 'century': 1, 'fox': 1, 'production': 1, 'anastasia': 1, 'hercules': 1, 'lively': 1, 'cast': 1, 'colorful': 1, 'palate': 1, 'beat': 1, 'hands': 1, 'came': 1, 'time': 1, 'crown': 1, '1997': 1, 'best': 1, 'piece': 1, 'animation': 1, 'year': 1, 'contest': 1, 'pretty': 1, 'much': 1, 'dead': 1, 'arrival': 1, 'even': 1, 'magic': 1, 'kingdom': 1, 'mediocre': 1, '--': 1, 'pocahontas': 1, 'keeping': 1, 'score': 1, 'nearly': 1, 'dull': 1, 'story': 1, 'revolves': 1, 'around': 1, 'adventures': 1, 'free': 1, 'spirited': 1, 'kayley': 1, 'voiced': 1, 'jessalyn': 1, 'gilsig': 1, 'early': 1, 'teen': 1, 'daughter': 1, 'belated': 1, 'knight': 1, 'king': 1, 'arthur': 1, 'round': 1, 'table': 1, 'dream': 1, 'follow': 1, 'father': 1, 'footsteps': 1, 'gets': 1, 'chance': 1, 'evil': 1, 'warlord': 1, 'ruber': 1, 'gary': 1, 'oldman': 1, 'ex': 1, 'member': 1, 'gone': 1, 'bad': 1, 'steals': 1, 'magical': 1, 'sword': 1, 'excalibur': 1, 'accidentally': 1, 'loses': 1, 'dangerous': 1, 'booby': 1, 'trapped': 1, 'forest': 1, 'help': 1, 'hunky': 1, 'blind': 1, 'timberland': 1, 'dweller': 1, 'garrett': 1, 'carey': 1, 'elwes': 1, 'two': 1, 'headed': 1, 'dragon': 1, 'eric': 1, 'idle': 1, 'rickles': 1, 'always': 1, 'arguing': 1, 'might': 1, 'able': 1, 'break': 1, 'medieval': 1, 'sexist': 1, 'mold': 1, 'prove': 1, 'worth': 1, 'fighter': 1, 'side': 1, 'missing': 1, 'pure': 1, 'showmanship': 1, 'essential': 1, 'element': 1, 'ever': 1, 'expected': 1, 'climb': 1, 'high': 1, 'ranks': 1, 'nothing': 1, 'differentiates': 1, 'something': 1, 'see': 1, 'given': 1, 'saturday': 1, 'morning': 1, 'subpar': 1, 'instantly': 1, 'forgettable': 1, 'songs': 1, 'poorly': 1, 'integrated': 1, 'computerized': 1, 'footage': 1, 'compare': 1, 'run': 1, 'angry': 1, 'ogre': 1, 'herc': 1, 'battle': 1, 'hydra': 1, 'rest': 1, 'case': 1, 'characters': 1, 'stink': 1, 'none': 1, 'remotely': 1, 'interesting': 1, 'film': 1, 'becomes': 1, 'race': 1, 'one': 1, 'bland': 1, 'others': 1, 'end': 1, 'tie': 1, 'win': 1, 'comedy': 1, 'shtick': 1, 'awfully': 1, 'cloying': 1, 'least': 1, 'shows': 1, 'signs': 1, 'pulse': 1, 'fans': 1, \"-'\": 1, '90s': 1, 'tgif': 1, 'television': 1, 'line': 1, 'thrilled': 1, 'find': 1, 'jaleel': 1, 'urkel': 1, 'white': 1, 'bronson': 1, 'balki': 1, 'pinchot': 1, 'sharing': 1, 'scenes': 1, 'nicely': 1, 'realized': 1, 'though': 1, 'loss': 1, 'recall': 1, 'enough': 1, 'specific': 1, 'actors': 1, 'providing': 1, 'voice': 1, 'talent': 1, 'enthusiastic': 1, 'paired': 1, 'singers': 1, 'sound': 1, 'thing': 1, 'like': 1, 'big': 1, 'musical': 1, 'moments': 1, 'jane': 1, 'seymour': 1, 'celine': 1, 'dion': 1, 'must': 1, 'strain': 1, 'mess': 1, 'good': 1, 'aside': 1, 'fact': 1, 'children': 1, 'probably': 1, 'bored': 1, 'watching': 1, 'adults': 1, 'grievous': 1, 'error': 1, 'complete': 1, 'lack': 1, 'personality': 1, 'learn': 1, 'goes': 1, 'long': 1, 'way': 1}, 'neg')\n"
     ]
    }
   ],
   "source": [
    "print(negative_features[3])"
   ]
  },
  {
   "cell_type": "code",
   "execution_count": 48,
   "metadata": {
    "collapsed": true
   },
   "outputs": [],
   "source": [
    "positive_features = [\n",
    "    (bag_of_word_features_filtered(movie_reviews.words(fileids=[f])),'pos') \\\n",
    "    for f in positive_fields]"
   ]
  },
  {
   "cell_type": "code",
   "execution_count": 49,
   "metadata": {},
   "outputs": [
    {
     "name": "stdout",
     "output_type": "stream",
     "text": [
      "({'apparently': 1, 'director': 1, 'tony': 1, 'kaye': 1, 'major': 1, 'battle': 1, 'new': 1, 'line': 1, 'regarding': 1, 'film': 1, 'american': 1, 'history': 1, 'x': 1, 'know': 1, 'details': 1, 'fight': 1, 'seems': 1, 'happy': 1, 'final': 1, 'product': 1, 'nearly': 1, 'removed': 1, 'name': 1, 'credits': 1, 'altogether': 1, 'heard': 1, 'kind': 1, 'thing': 1, 'happening': 1, 'makes': 1, 'wonder': 1, 'much': 1, 'input': 1, 'studio': 1, 'films': 1, 'produce': 1, 'found': 1, 'extremely': 1, 'good': 1, 'focused': 1, 'look': 1, 'touchy': 1, 'subject': 1, 'racism': 1, 'powerful': 1, 'charismatic': 1, 'performance': 1, 'edward': 1, 'norton': 1, 'hard': 1, 'believe': 1, 'two': 1, 'years': 1, 'since': 1, 'fantastic': 1, 'role': 1, 'primal': 1, 'fear': 1, 'starring': 1, 'making': 1, 'star': 1, 'one': 1, 'performers': 1, 'becomes': 1, 'character': 1, 'work': 1, 'best': 1, 'performances': 1, 'year': 1, 'plays': 1, 'young': 1, 'man': 1, 'named': 1, 'derek': 1, 'vinyard': 1, 'skinhead': 1, 'living': 1, 'venice': 1, 'beach': 1, 'brother': 1, 'danny': 1, 'furlong': 1, 'mother': 1, 'beverly': 1, 'angelo': 1, 'sister': 1, 'davin': 1, 'jennifer': 1, 'lien': 1, 'opens': 1, 'flashback': 1, 'brutally': 1, 'kills': 1, 'black': 1, 'men': 1, 'vandalizing': 1, 'car': 1, 'find': 1, 'lands': 1, 'prison': 1, 'point': 1, 'seen': 1, 'eyes': 1, 'present': 1, 'time': 1, 'high': 1, 'school': 1, 'eager': 1, 'follow': 1, 'footsteps': 1, 'told': 1, 'see': 1, 'path': 1, 'leads': 1, 'adoption': 1, 'white': 1, 'supremacy': 1, 'released': 1, 'served': 1, 'three': 1, 'finds': 1, 'full': 1, 'blown': 1, 'however': 1, 'given': 1, 'violence': 1, 'tries': 1, 'get': 1, 'understand': 1, 'comes': 1, 'bad': 1, 'things': 1, 'interesting': 1, 'stupid': 1, 'thoughtless': 1, 'people': 1, '--': 1, 'intelligent': 1, 'articulate': 1, 'voice': 1, 'beliefs': 1, 'disturbingly': 1, 'straightforward': 1, 'terms': 1, 'make': 1, 'controversial': 1, 'movie': 1, 'preach': 1, 'right': 1, 'note': 1, 'material': 1, 'mainstream': 1, 'redemption': 1, 'phase': 1, 'main': 1, 'may': 1, 'think': 1, 'way': 1, 'sympathetic': 1, 'partially': 1, 'disagree': 1, 'although': 1, 'advocate': 1, 'presents': 1, 'loud': 1, 'obnoxious': 1, 'also': 1, 'smart': 1, 'reasons': 1, 'believable': 1, 'father': 1, 'arbitrarily': 1, 'killed': 1, 'group': 1, 'clear': 1, 'passionate': 1, 'punk': 1, 'looking': 1, 'excuse': 1, 'beat': 1, 'course': 1, 'helps': 1, 'actor': 1, 'talented': 1, 'play': 1, 'part': 1, 'astonishing': 1, 'frightening': 1, 'looks': 1, 'shaved': 1, 'head': 1, 'swastika': 1, 'chest': 1, 'addition': 1, 'getting': 1, 'perfect': 1, 'requires': 1, 'intelligence': 1, 'depth': 1, 'whole': 1, 'lot': 1, 'shouting': 1, 'ease': 1, 'even': 1, 'meanest': 1, 'likable': 1, 'quality': 1, 'gutsy': 1, 'approach': 1, 'telling': 1, 'story': 1, 'adds': 1, 'subplot': 1, 'principal': 1, 'avery': 1, 'brooks': 1, 'obsessed': 1, 'purging': 1, 'hatred': 1, 'terrific': 1, 'standouts': 1, 'visually': 1, 'indulges': 1, 'artistic': 1, 'choices': 1, 'nicely': 1, 'lots': 1, 'slow': 1, 'motion': 1, 'strange': 1, 'camera': 1, 'angles': 1, 'add': 1, 'moody': 1, 'atmosphere': 1, 'like': 1, 'movies': 1, 'lately': 1, 'skims': 1, 'past': 1, 'greatness': 1, 'last': 1, 'minutes': 1, 'climactic': 1, 'scene': 1, 'moving': 1, 'picture': 1, 'ends': 1, 'pretentious': 1, 'preachy': 1, 'resolution': 1, 'featuring': 1, 'brief': 1, 'narration': 1, 'subtle': 1, 'felt': 1, 'slap': 1, 'face': 1, 'hand': 1, 'fed': 1, 'theme': 1, 'simplistic': 1, 'exactly': 1, 'disliked': 1, 'version': 1, 'perhaps': 1, 'problem': 1, 'imagine': 1, 'least': 1, 'pleased': 1, 'many': 1, 'timid': 1, 'weak': 1, 'manages': 1, 'compelling': 1, 'argument': 1, 'without': 1, 'advocating': 1}, 'pos')\n"
     ]
    }
   ],
   "source": [
    "print(positive_features[6])"
   ]
  },
  {
   "cell_type": "code",
   "execution_count": 50,
   "metadata": {
    "collapsed": true
   },
   "outputs": [],
   "source": [
    "from nltk.classify import NaiveBayesClassifier"
   ]
  },
  {
   "cell_type": "code",
   "execution_count": 51,
   "metadata": {
    "collapsed": true
   },
   "outputs": [],
   "source": [
    "split = 800"
   ]
  },
  {
   "cell_type": "code",
   "execution_count": 52,
   "metadata": {
    "collapsed": true
   },
   "outputs": [],
   "source": [
    "sentiment_classifier = NaiveBayesClassifier.train(positive_features[:split]+negative_features[:split])"
   ]
  },
  {
   "cell_type": "code",
   "execution_count": 53,
   "metadata": {},
   "outputs": [
    {
     "data": {
      "text/plain": [
       "98.0625"
      ]
     },
     "execution_count": 53,
     "metadata": {},
     "output_type": "execute_result"
    }
   ],
   "source": [
    "nltk.classify.util.accuracy(sentiment_classifier,positive_features[:split]+negative_features[:split])*100"
   ]
  },
  {
   "cell_type": "code",
   "execution_count": 54,
   "metadata": {},
   "outputs": [
    {
     "data": {
      "text/plain": [
       "71.75"
      ]
     },
     "execution_count": 54,
     "metadata": {},
     "output_type": "execute_result"
    }
   ],
   "source": [
    "nltk.classify.util.accuracy(sentiment_classifier,positive_features[split:]+negative_features[split:])*100"
   ]
  },
  {
   "cell_type": "code",
   "execution_count": 55,
   "metadata": {},
   "outputs": [
    {
     "name": "stdout",
     "output_type": "stream",
     "text": [
      "Most Informative Features\n",
      "             outstanding = 1                 pos : neg    =     13.9 : 1.0\n",
      "               insulting = 1                 neg : pos    =     13.7 : 1.0\n",
      "              vulnerable = 1                 pos : neg    =     13.0 : 1.0\n",
      "               ludicrous = 1                 neg : pos    =     12.6 : 1.0\n",
      "             uninvolving = 1                 neg : pos    =     12.3 : 1.0\n",
      "                  avoids = 1                 pos : neg    =     11.7 : 1.0\n",
      "              astounding = 1                 pos : neg    =     11.7 : 1.0\n",
      "             fascination = 1                 pos : neg    =     11.0 : 1.0\n",
      "                  darker = 1                 pos : neg    =     10.3 : 1.0\n",
      "                  symbol = 1                 pos : neg    =     10.3 : 1.0\n"
     ]
    }
   ],
   "source": [
    "sentiment_classifier.show_most_informative_features()"
   ]
  }
 ],
 "metadata": {
  "kernelspec": {
   "display_name": "Python 3",
   "language": "python",
   "name": "python3"
  },
  "language_info": {
   "codemirror_mode": {
    "name": "ipython",
    "version": 3
   },
   "file_extension": ".py",
   "mimetype": "text/x-python",
   "name": "python",
   "nbconvert_exporter": "python",
   "pygments_lexer": "ipython3",
   "version": "3.6.4"
  }
 },
 "nbformat": 4,
 "nbformat_minor": 2
}
